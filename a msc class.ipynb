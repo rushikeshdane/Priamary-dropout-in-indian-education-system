{
 "cells": [
  {
   "cell_type": "code",
   "execution_count": null,
   "metadata": {},
   "outputs": [],
   "source": []
  },
  {
   "cell_type": "markdown",
   "metadata": {},
   "source": [
    "# name : rushikesh dane"
   ]
  },
  {
   "cell_type": "code",
   "execution_count": null,
   "metadata": {},
   "outputs": [],
   "source": []
  },
  {
   "cell_type": "markdown",
   "metadata": {},
   "source": [
    "# practical 1:if else condition in python"
   ]
  },
  {
   "cell_type": "markdown",
   "metadata": {},
   "source": [
    "# 1 write a pyhton program which accept 3 digit number and diaplay its reverse"
   ]
  },
  {
   "cell_type": "code",
   "execution_count": 13,
   "metadata": {},
   "outputs": [
    {
     "name": "stdout",
     "output_type": "stream",
     "text": [
      "enter any three digit number987\n",
      "our reversed number : 789\n"
     ]
    }
   ],
   "source": [
    "# method 1\n",
    "a = int(input(\"enter any three digit number\")) # e.g: 987\n",
    "\n",
    "if a>99 and a<1000 :\n",
    "    third = a%10          # output 7\n",
    "    second = int(a/10)%10  # output 8\n",
    "    first = int(a/100)%10  #  output 9\n",
    "    add = str(third) + str(second) + str(first) # changing data type to string\n",
    "    \n",
    "    print(\"our reversed number :\",int(add)) # changing data type to intger\n",
    "else :\n",
    "    print(\"enter valid number\")"
   ]
  },
  {
   "cell_type": "markdown",
   "metadata": {},
   "source": [
    "##### "
   ]
  },
  {
   "cell_type": "code",
   "execution_count": 15,
   "metadata": {},
   "outputs": [
    {
     "name": "stdout",
     "output_type": "stream",
     "text": [
      "enter any three digit number765\n",
      "our reversed number : 567\n"
     ]
    }
   ],
   "source": [
    "# method 2  using string slicing\n",
    "a = int(input(\"enter any three digit number\")) # e.g: 765\n",
    "\n",
    "if a>99 and a<1000 :\n",
    "    a= str(a)             # changing data type to string \n",
    "    b= a[::-1]            # here i am using python slicing \n",
    "    print(\"our reversed number :\",int(b))        # changing data type to int\n",
    "    \n",
    "else :\n",
    "    print(\"enter valid number\")"
   ]
  },
  {
   "cell_type": "markdown",
   "metadata": {},
   "source": [
    "# 2 writhe python program which accept 3 digit number and display number at 10th postion ?"
   ]
  },
  {
   "cell_type": "code",
   "execution_count": 9,
   "metadata": {},
   "outputs": [
    {
     "name": "stdout",
     "output_type": "stream",
     "text": [
      "enter any integer 787\n",
      "number at 10 the position is 8 \n"
     ]
    }
   ],
   "source": [
    "n = int(input(\"enter any integer \"))    # taking intger input \n",
    "\n",
    "if n> 99 and n <1000:         # defingin condition for only three digit number\n",
    "    output = int(n/10)%10          # geting 10 place of three digit number\n",
    "    print(\"number at 10 the position is {0} \".format(output))\n",
    "else :                              # if it is not an three digit number\n",
    "    print(\"enter correct number\")"
   ]
  },
  {
   "cell_type": "markdown",
   "metadata": {},
   "source": [
    "############################################################################################################"
   ]
  },
  {
   "cell_type": "markdown",
   "metadata": {},
   "source": [
    "# practical 2 : ternary oprators in python"
   ]
  },
  {
   "cell_type": "markdown",
   "metadata": {},
   "source": [
    "# 1. write a python program which accept 3 sides(length) and check whethar it forms triangle or not ?"
   ]
  },
  {
   "cell_type": "code",
   "execution_count": null,
   "metadata": {},
   "outputs": [],
   "source": [
    "side1  = int(input(\"enter any number\"))       # taking integer input\n",
    "side2  = int(input(\"enter any number\"))\n",
    "side3  = int(input(\"enter any number\"))\n",
    "print(\" \")\n",
    "\n",
    "if side1 > side2 + side3 or side2 > side1 + side3 or side3 > side1 + side2: \n",
    "    # condition to check one side is greater than sum of other two sides                                                  \n",
    "    print(\"it is triangle\")\n",
    "else :\n",
    "    print('it is not an triangle')"
   ]
  },
  {
   "cell_type": "markdown",
   "metadata": {},
   "source": [
    "# 2. write a python program which accept 3 sides(length) and check whethar it forms right angled triangle or not ?"
   ]
  },
  {
   "cell_type": "code",
   "execution_count": null,
   "metadata": {},
   "outputs": [],
   "source": [
    "side1  = int(input(\"enter any number\"))   # taking integer input\n",
    "side2  = int(input(\"enter any number\"))\n",
    "side3  = int(input(\"enter any number\"))\n",
    "print(\" \")\n",
    "\n",
    "if (side1)^2 == (side2)^2 + (side3)^2 or (side2)^2 ==(side1)^2 + (side3)^2 or (side3)^2 == (side1)^2 + (side2)^2:\n",
    "    # this condition is checking pythagorus thm\n",
    "    print(\"it is right angled triangle\")\n",
    "else :\n",
    "    print('it is not an triangle')"
   ]
  },
  {
   "cell_type": "markdown",
   "metadata": {},
   "source": [
    "# 3. find the greatest of 3 numbers using ternary operator ?"
   ]
  },
  {
   "cell_type": "code",
   "execution_count": null,
   "metadata": {},
   "outputs": [],
   "source": [
    "one = int(input(\"enter any number\"))      # taking integer input\n",
    "two   = int(input(\"enter any number\"))\n",
    "three  = int(input(\"enter any number\"))\n",
    "print(' ')\n",
    " \n",
    "if one > two and one > three:    # checking first number is greater than other two\n",
    "    print(one,\" this is our greatest number\")\n",
    "elif two > one and two > three :        # checking second number is greater than other two\n",
    "    print(two,\" this is our greatest number\")\n",
    "else :                                    # if first two condition are not satisfied then automatically third number is greater\n",
    "    print(three,\" this is our greatest number\")"
   ]
  },
  {
   "cell_type": "markdown",
   "metadata": {},
   "source": [
    "#######################################################################################################################"
   ]
  },
  {
   "cell_type": "markdown",
   "metadata": {},
   "source": [
    "# practical 3 : looping in python"
   ]
  },
  {
   "cell_type": "markdown",
   "metadata": {},
   "source": [
    "# 1.writhe python program to print\n",
    "   1\n",
    "\n",
    "   2 2\n",
    "\n",
    "   3 3 3\n",
    "\n",
    "   4 4 4 4 "
   ]
  },
  {
   "cell_type": "code",
   "execution_count": 10,
   "metadata": {},
   "outputs": [
    {
     "name": "stdout",
     "output_type": "stream",
     "text": [
      "1 \n",
      "2 2 \n",
      "3 3 3 \n",
      "4 4 4 4 \n"
     ]
    }
   ],
   "source": [
    "for i in range(1,5):      # getting number 1,2,3,4 through looping\n",
    "    \n",
    "    c = str(i)             # changing type from int to string \n",
    "    c = c +' '              # adding space to string\n",
    "    print(i * c)               # mulitilplying our integer with string \n",
    "    \n",
    "    "
   ]
  },
  {
   "cell_type": "code",
   "execution_count": 12,
   "metadata": {},
   "outputs": [
    {
     "name": "stdout",
     "output_type": "stream",
     "text": [
      " 1\n",
      " 2 2\n"
     ]
    }
   ],
   "source": [
    "print(1 * ' 1')   \n",
    "print(2 * ' 2')    # this concept iam using in above example"
   ]
  },
  {
   "cell_type": "markdown",
   "metadata": {},
   "source": [
    "# 2. writhe python program to print\n",
    "\n",
    "2\n",
    "\n",
    "2 3\n",
    "\n",
    "2 3 4\n",
    "\n",
    "2 3 4 5"
   ]
  },
  {
   "cell_type": "code",
   "execution_count": 14,
   "metadata": {},
   "outputs": [
    {
     "name": "stdout",
     "output_type": "stream",
     "text": [
      "2  \n",
      "2 3  \n",
      "2 3 4  \n",
      "2 3 4 5  \n"
     ]
    }
   ],
   "source": [
    "for i in range(2,6):          # getting number 2,3,4,5 through looping\n",
    "    for j in range(2,i+1):    # this loop is doing addition to number e.g : 2 +1 = 3, 3 + 1 = 4\n",
    "        print(j , end = \" \")    # printing  our output j in single line with space\n",
    "    print(' ')                 # this will help to pring that triangular pattern\n",
    "    \n",
    "    \n",
    "        \n",
    "    "
   ]
  },
  {
   "cell_type": "markdown",
   "metadata": {},
   "source": [
    "# 3 .writhe python program to print\n",
    "\n",
    "1\n",
    "\n",
    "2 3\n",
    "\n",
    "4 5 6\n",
    "\n",
    "7 8 9 10"
   ]
  },
  {
   "cell_type": "markdown",
   "metadata": {},
   "source": [
    "not answered"
   ]
  },
  {
   "cell_type": "code",
   "execution_count": null,
   "metadata": {},
   "outputs": [],
   "source": [
    "################################################################################################################"
   ]
  },
  {
   "cell_type": "markdown",
   "metadata": {},
   "source": [
    "# practical 4 : recursion in python"
   ]
  },
  {
   "cell_type": "markdown",
   "metadata": {},
   "source": [
    "# 1.writhe program to find factorial using recursion ?"
   ]
  },
  {
   "cell_type": "code",
   "execution_count": 71,
   "metadata": {},
   "outputs": [],
   "source": [
    "def fact(n):      # degfine function fact # passing arument variable n\n",
    "    if n <=2:        # if n is less than 2 ,we are returning n (note:return is like print for function)\n",
    "        return n\n",
    "    else:           # in n > 2\n",
    "        return n * fact(n-1)   # suppose n = 3 then we are doing 3 * (3-1)= 3 * 2 =6 (note: we are calling our function )"
   ]
  },
  {
   "cell_type": "code",
   "execution_count": 74,
   "metadata": {},
   "outputs": [
    {
     "name": "stdout",
     "output_type": "stream",
     "text": [
      "enter any number8\n"
     ]
    },
    {
     "data": {
      "text/plain": [
       "40320"
      ]
     },
     "execution_count": 74,
     "metadata": {},
     "output_type": "execute_result"
    }
   ],
   "source": [
    "n = int(input(\"enter any number\"))\n",
    "\n",
    "fact(n)"
   ]
  },
  {
   "cell_type": "markdown",
   "metadata": {},
   "source": [
    "# 2. writhe a program to find sum of natural number using recursion"
   ]
  },
  {
   "cell_type": "code",
   "execution_count": 78,
   "metadata": {},
   "outputs": [],
   "source": [
    "def natural(n):     # define function natural # passing argumen n\n",
    "    if n<1:           \n",
    "        print(\"it is not an natural number\")\n",
    "    elif n == 1:\n",
    "        return n\n",
    "    else :\n",
    "        return n + natural(n-1) # suppose n = 3 then  3 + (3-1) + 1(due to recursion) = 6"
   ]
  },
  {
   "cell_type": "code",
   "execution_count": 81,
   "metadata": {},
   "outputs": [
    {
     "data": {
      "text/plain": [
       "15"
      ]
     },
     "execution_count": 81,
     "metadata": {},
     "output_type": "execute_result"
    }
   ],
   "source": [
    "natural(5)"
   ]
  },
  {
   "cell_type": "code",
   "execution_count": null,
   "metadata": {},
   "outputs": [],
   "source": []
  },
  {
   "cell_type": "code",
   "execution_count": null,
   "metadata": {},
   "outputs": [],
   "source": []
  },
  {
   "cell_type": "code",
   "execution_count": null,
   "metadata": {},
   "outputs": [],
   "source": []
  },
  {
   "cell_type": "code",
   "execution_count": null,
   "metadata": {},
   "outputs": [],
   "source": []
  }
 ],
 "metadata": {
  "kernelspec": {
   "display_name": "Python 3",
   "language": "python",
   "name": "python3"
  },
  "language_info": {
   "codemirror_mode": {
    "name": "ipython",
    "version": 3
   },
   "file_extension": ".py",
   "mimetype": "text/x-python",
   "name": "python",
   "nbconvert_exporter": "python",
   "pygments_lexer": "ipython3",
   "version": "3.8.5"
  }
 },
 "nbformat": 4,
 "nbformat_minor": 4
}
